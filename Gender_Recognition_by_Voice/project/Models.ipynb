{
 "cells": [
  {
   "cell_type": "markdown",
   "metadata": {},
   "source": [
    "## 数据读入"
   ]
  },
  {
   "cell_type": "code",
   "execution_count": 1,
   "metadata": {},
   "outputs": [],
   "source": [
    "import numpy as np\n",
    "import pandas as pd\n",
    "from time import time\n",
    "from IPython.display import display\n",
    "%matplotlib inline\n",
    "\n",
    "data = pd.read_csv(\"voice.csv\")"
   ]
  },
  {
   "cell_type": "markdown",
   "metadata": {},
   "source": [
    "## 数据预处理"
   ]
  },
  {
   "cell_type": "code",
   "execution_count": 2,
   "metadata": {},
   "outputs": [],
   "source": [
    "# 将数据切分成特征和对应的标签\n",
    "label_raw = data['label']\n",
    "features_raw = data.drop('label', axis = 1)\n",
    "\n",
    "# 将'label'编码成数字值\n",
    "label_mapping = {'male':1, 'female':0}\n",
    "label = label_raw.map(label_mapping)\n",
    "\n",
    "# 对于倾斜的数据使用Log转换\n",
    "skewed = ['skew', 'kurt']\n",
    "features_raw[skewed] = data[skewed].apply(lambda x: np.log(x + 1))"
   ]
  },
  {
   "cell_type": "code",
   "execution_count": 3,
   "metadata": {},
   "outputs": [],
   "source": [
    "# 归一化\n",
    "from sklearn.preprocessing import MinMaxScaler\n",
    "\n",
    "# 初始化一个 scaler，并将它施加到特征上\n",
    "scaler = MinMaxScaler()\n",
    "numerical = features_raw.columns\n",
    "features_raw[numerical] = scaler.fit_transform(features_raw[numerical])\n",
    "features = features_raw"
   ]
  },
  {
   "cell_type": "code",
   "execution_count": 4,
   "metadata": {},
   "outputs": [
    {
     "name": "stdout",
     "output_type": "stream",
     "text": [
      "Training set has 2534 samples.\n",
      "Testing set has 634 samples.\n"
     ]
    }
   ],
   "source": [
    "# train_test_split数据混洗和切分\n",
    "from sklearn.model_selection import train_test_split\n",
    "\n",
    "# 将'features'和'label'数据切分成训练集和测试集\n",
    "X_train, X_test, y_train, y_test = train_test_split(features, label, \n",
    "                                test_size=0.2, random_state=0, stratify=label)\n",
    "\n",
    "print \"Training set has {} samples.\".format(X_train.shape[0])\n",
    "print \"Testing set has {} samples.\".format(X_test.shape[0])"
   ]
  },
  {
   "cell_type": "markdown",
   "metadata": {},
   "source": [
    "## 模型"
   ]
  },
  {
   "cell_type": "markdown",
   "metadata": {},
   "source": [
    "### 导入各个模型"
   ]
  },
  {
   "cell_type": "code",
   "execution_count": 5,
   "metadata": {},
   "outputs": [],
   "source": [
    "from sklearn.ensemble import RandomForestClassifier\n",
    "from sklearn.naive_bayes import GaussianNB\n",
    "from sklearn.linear_model import LogisticRegression\n",
    "from sklearn.svm import SVC\n",
    "from sklearn.ensemble import GradientBoostingClassifier\n",
    "from sklearn.neighbors import KNeighborsClassifier\n",
    "from sklearn.tree import DecisionTreeClassifier"
   ]
  },
  {
   "cell_type": "code",
   "execution_count": 6,
   "metadata": {},
   "outputs": [],
   "source": [
    "def model_accuracy(clf):\n",
    "    clf.fit(X_train, y_train)\n",
    "    return clf.score(X_test, y_test)"
   ]
  },
  {
   "cell_type": "markdown",
   "metadata": {},
   "source": [
    "### GridSearchCV"
   ]
  },
  {
   "cell_type": "code",
   "execution_count": 7,
   "metadata": {},
   "outputs": [
    {
     "name": "stderr",
     "output_type": "stream",
     "text": [
      "D:\\Anaconda\\Anaconda3\\envs\\p1_boston_housing\\lib\\site-packages\\sklearn\\cross_validation.py:41: DeprecationWarning: This module was deprecated in version 0.18 in favor of the model_selection module into which all the refactored classes and functions are moved. Also note that the interface of the new CV iterators are different from that of this module. This module will be removed in 0.20.\n",
      "  \"This module will be removed in 0.20.\", DeprecationWarning)\n",
      "D:\\Anaconda\\Anaconda3\\envs\\p1_boston_housing\\lib\\site-packages\\sklearn\\grid_search.py:42: DeprecationWarning: This module was deprecated in version 0.18 in favor of the model_selection module into which all the refactored classes and functions are moved. This module will be removed in 0.20.\n",
      "  DeprecationWarning)\n"
     ]
    }
   ],
   "source": [
    "from sklearn.grid_search import GridSearchCV\n",
    "\n",
    "def gs_best_estimator(clf, params):\n",
    "    grid = GridSearchCV(clf, params, cv=10, scoring=\"accuracy\")\n",
    "    grid.fit(X_train, y_train)\n",
    "    # print best params\n",
    "    print('best params: {}'.format(grid.best_params_))\n",
    "    return grid.best_estimator_"
   ]
  },
  {
   "cell_type": "markdown",
   "metadata": {},
   "source": [
    "### 随机森林"
   ]
  },
  {
   "cell_type": "code",
   "execution_count": 8,
   "metadata": {},
   "outputs": [],
   "source": [
    "def accuracy_of_rf(rf, n=10):\n",
    "    scores = []\n",
    "    i = 0\n",
    "    while i < n:\n",
    "        rf.fit(X_train, y_train)\n",
    "        scores.append(rf.score(X_test, y_test))\n",
    "        i += 1\n",
    "    return np.array(scores).mean()"
   ]
  },
  {
   "cell_type": "code",
   "execution_count": 9,
   "metadata": {},
   "outputs": [
    {
     "name": "stdout",
     "output_type": "stream",
     "text": [
      "Socre of test data: 0.97476\n"
     ]
    }
   ],
   "source": [
    "rf = RandomForestClassifier(oob_score=False)\n",
    "print('Socre of test data: {:.5}'.format(accuracy_of_rf(rf)))"
   ]
  },
  {
   "cell_type": "markdown",
   "metadata": {},
   "source": [
    "### 随机森林(坐标下降法调参)"
   ]
  },
  {
   "cell_type": "code",
   "execution_count": 10,
   "metadata": {},
   "outputs": [],
   "source": [
    "# 作图\n",
    "import matplotlib.pyplot as plt\n",
    "def plot(param_name, param_value_array, mu, sigma):\n",
    "    plt.figure(figsize = (5,5))\n",
    "    plt.errorbar(param_value_array, mu, yerr=sigma, fmt='cs-')\n",
    "    plt.title(\"Searching Best {}\".format(param_name), fontsize=14)\n",
    "    plt.xlabel(\"value\", fontsize=14)\n",
    "    plt.ylabel(\"accuracy\", fontsize=14)\n",
    "    plt.grid(which=\"both\")\n",
    "    plt.show()\n",
    "\n",
    "def kw2param(param_dict):\n",
    "    pf = []\n",
    "    for (k, v) in param_dict.items():\n",
    "        if type(v) == str:\n",
    "            pf.append('{}=\\'{}\\''.format(k, v))\n",
    "        else:\n",
    "            pf.append('{}={}'.format(k, v))\n",
    "    return ','.join(pf) \n",
    "\n",
    "# 调参函数\n",
    "def param_search(param_name, param_value_array, **kwargs):\n",
    "    # 额外指定的参数\n",
    "    extra_param = ''\n",
    "    if len(kwargs):\n",
    "        extra_param = kw2param(kwargs)\n",
    "    \n",
    "    # 每个参数取值需要创建的分类器个数\n",
    "    n_samples = 10\n",
    "\n",
    "    # 每个n_estimators值对应表现的统计特征：均值和方差\n",
    "    n_grid = len(param_value_array)\n",
    "    score_array_mu =np.zeros(n_grid)\n",
    "    score_array_sigma = np.zeros(n_grid)\n",
    "\n",
    "    j=0\n",
    "    for value in param_value_array:\n",
    "        score_array = np.zeros(n_samples)\n",
    "        for i in range(0, n_samples):\n",
    "            exec('clf = RandomForestClassifier({}=value, n_jobs=-1, {})'.format(param_name, extra_param))\n",
    "            clf.fit(X_train, y_train)\n",
    "            score_array[i] = clf.score(X_test, y_test)\n",
    "        score_array_mu[j], score_array_sigma[j] = np.mean(score_array), np.std(score_array)\n",
    "        j=j+1\n",
    "    plot(param_name, param_value_array, score_array_mu, score_array_sigma)    \n",
    "    return score_array_mu, score_array_sigma\n",
    "\n",
    "\n",
    "# 调参函数，改进，用于衡量分数时用rf的袋外分数，不污染测试集\n",
    "def param_search_using_oob(param_name, param_value_array, **kwargs):\n",
    "    # 额外指定的参数\n",
    "    extra_param = ''\n",
    "    if len(kwargs):\n",
    "        extra_param = kw2param(kwargs)\n",
    "    \n",
    "    # 每个参数取值需要创建的分类器个数\n",
    "    n_samples = 10\n",
    "\n",
    "    # 每个n_estimators值对应表现的统计特征：均值和方差\n",
    "    n_grid = len(param_value_array)\n",
    "    score_array_mu =np.zeros(n_grid)\n",
    "    score_array_sigma = np.zeros(n_grid)\n",
    "\n",
    "    j=0\n",
    "    for value in param_value_array:\n",
    "        score_array = np.zeros(n_samples)\n",
    "        for i in range(0, n_samples):\n",
    "            exec('clf = RandomForestClassifier(oob_score=True, {}=value, n_jobs=-1, {})'.format(param_name, extra_param))\n",
    "            clf.fit(X_train, y_train)\n",
    "            score_array[i] = clf.oob_score_\n",
    "        score_array_mu[j], score_array_sigma[j] = np.mean(score_array), np.std(score_array)\n",
    "        j=j+1\n",
    "    plot(param_name, param_value_array, score_array_mu, score_array_sigma)    \n",
    "    return score_array_mu, score_array_sigma"
   ]
  },
  {
   "cell_type": "code",
   "execution_count": 11,
   "metadata": {},
   "outputs": [
    {
     "data": {
      "image/png": "[encoded data removed]",
      "text/plain": [
       "<matplotlib.figure.Figure at 0xa06ba58>"
      ]
     },
     "metadata": {},
     "output_type": "display_data"
    },
    {
     "data": {
      "text/plain": [
       "(array([ 0.9477918 ,  0.9714511 ,  0.97429022,  0.97539432,  0.97555205,\n",
       "         0.97807571,  0.97586751,  0.97634069,  0.97665615,  0.97618297,\n",
       "         0.97634069,  0.97634069,  0.97618297,  0.97618297,  0.97492114,\n",
       "         0.97586751,  0.97697161]),\n",
       " array([ 0.0120835 ,  0.00525263,  0.00200135,  0.00292543,  0.00368221,\n",
       "         0.0011041 ,  0.00187292,  0.00141077,  0.00197003,  0.00148801,\n",
       "         0.00405212,  0.0025433 ,  0.00268139,  0.00179145,  0.00148801,\n",
       "         0.00200135,  0.00201991]))"
      ]
     },
     "execution_count": 11,
     "metadata": {},
     "output_type": "execute_result"
    }
   ],
   "source": [
    "# n_estimators调参\n",
    "param_search(param_name='n_estimators', \n",
    "             param_value_array=np.append([1], [i*5 for i in range(1, 17)]))"
   ]
  },
  {
   "cell_type": "code",
   "execution_count": 12,
   "metadata": {},
   "outputs": [
    {
     "data": {
      "image/png": "[encoded data removed]",
      "text/plain": [
       "<matplotlib.figure.Figure at 0x846eb00>"
      ]
     },
     "metadata": {},
     "output_type": "display_data"
    },
    {
     "data": {
      "text/plain": [
       "(array([ 0.97870662,  0.97602524,  0.97712934,  0.97492114,  0.97539432,\n",
       "         0.97365931]),\n",
       " array([ 0.00284349,  0.00252366,  0.00189931,  0.00238687,  0.00300927,\n",
       "         0.00187292]))"
      ]
     },
     "execution_count": 12,
     "metadata": {},
     "output_type": "execute_result"
    }
   ],
   "source": [
    "# max_features调参\n",
    "param_search(param_name='max_features', \n",
    "             n_estimators=45,\n",
    "             param_value_array=[x for x in range(3, 9)])"
   ]
  },
  {
   "cell_type": "code",
   "execution_count": 13,
   "metadata": {},
   "outputs": [
    {
     "data": {
      "image/png": "[encoded data removed]",
      "text/plain": [
       "<matplotlib.figure.Figure at 0xcf4b668>"
      ]
     },
     "metadata": {},
     "output_type": "display_data"
    },
    {
     "data": {
      "text/plain": [
       "(array([ 0.97697161,  0.97760252,  0.97823344,  0.97681388,  0.97776025,\n",
       "         0.97665615,  0.97776025]),\n",
       " array([ 0.00189274,  0.00231813,  0.00297602,  0.00315851,  0.0031109 ,\n",
       "         0.00231813,  0.00216841]))"
      ]
     },
     "execution_count": 13,
     "metadata": {},
     "output_type": "execute_result"
    }
   ],
   "source": [
    "# min_samples_split调参\n",
    "param_search(param_name='min_samples_split', \n",
    "             n_estimators=45,\n",
    "             max_features=3,\n",
    "             param_value_array=[x for x in range(2, 9)])"
   ]
  },
  {
   "cell_type": "code",
   "execution_count": 14,
   "metadata": {},
   "outputs": [
    {
     "name": "stdout",
     "output_type": "stream",
     "text": [
      "Socre of test data: 0.97685\n"
     ]
    }
   ],
   "source": [
    "rf_ft= RandomForestClassifier(oob_score=False, n_estimators=45,\n",
    "             max_features=3, min_samples_split=5, criterion='gini')\n",
    "print('Socre of test data: {:.5}'.format(accuracy_of_rf(rf_ft, n=10)))"
   ]
  },
  {
   "cell_type": "code",
   "execution_count": 15,
   "metadata": {},
   "outputs": [
    {
     "name": "stdout",
     "output_type": "stream",
     "text": [
      "Socre of test data: 0.97811\n"
     ]
    }
   ],
   "source": [
    "rf_ft= RandomForestClassifier(oob_score=False, n_estimators=45,\n",
    "             max_features=3, min_samples_split=5, criterion='entropy')\n",
    "print('Socre of test data: {:.5}'.format(accuracy_of_rf(rf_ft, n=10)))"
   ]
  },
  {
   "cell_type": "markdown",
   "metadata": {},
   "source": [
    "### 调参得分改为oob得分"
   ]
  },
  {
   "cell_type": "code",
   "execution_count": 16,
   "metadata": {},
   "outputs": [
    {
     "name": "stderr",
     "output_type": "stream",
     "text": [
      "D:\\Anaconda\\Anaconda3\\envs\\p1_boston_housing\\lib\\site-packages\\sklearn\\ensemble\\forest.py:451: UserWarning: Some inputs do not have OOB scores. This probably means too few trees were used to compute any reliable oob estimates.\n",
      "  warn(\"Some inputs do not have OOB scores. \"\n",
      "D:\\Anaconda\\Anaconda3\\envs\\p1_boston_housing\\lib\\site-packages\\sklearn\\ensemble\\forest.py:456: RuntimeWarning: invalid value encountered in true_divide\n",
      "  predictions[k].sum(axis=1)[:, np.newaxis])\n"
     ]
    },
    {
     "data": {
      "image/png": "[encoded data removed]",
      "text/plain": [
       "<matplotlib.figure.Figure at 0xcf78e80>"
      ]
     },
     "metadata": {},
     "output_type": "display_data"
    },
    {
     "data": {
      "text/plain": [
       "(array([ 0.66479874,  0.91377269,  0.96436464,  0.97403315,  0.97569061,\n",
       "         0.97790055,  0.9777427 ,  0.97829519,  0.97884767,  0.97940016,\n",
       "         0.97900552,  0.97940016,  0.97943962,  0.97943962,  0.97932123,\n",
       "         0.97936069,  0.9808603 ]),\n",
       " array([ 0.00656848,  0.00444466,  0.00191753,  0.0019155 ,  0.00221979,\n",
       "         0.00150789,  0.00146812,  0.00147658,  0.00143594,  0.0011273 ,\n",
       "         0.00114103,  0.00089643,  0.0012157 ,  0.00137217,  0.0012993 ,\n",
       "         0.00121057,  0.00081356]))"
      ]
     },
     "execution_count": 16,
     "metadata": {},
     "output_type": "execute_result"
    }
   ],
   "source": [
    "# n_estimators调参\n",
    "param_search_using_oob(param_name='n_estimators', \n",
    "             param_value_array=np.append([1], [i*5 for i in range(1, 17)]))"
   ]
  },
  {
   "cell_type": "code",
   "execution_count": 17,
   "metadata": {},
   "outputs": [
    {
     "data": {
      "image/png": "[encoded data removed]",
      "text/plain": [
       "<matplotlib.figure.Figure at 0xcf78da0>"
      ]
     },
     "metadata": {},
     "output_type": "display_data"
    },
    {
     "data": {
      "text/plain": [
       "(array([ 0.97928177,  0.97932123,  0.97853197,  0.97809787,  0.97861089,\n",
       "         0.97872928]),\n",
       " array([ 0.00114715,  0.0010321 ,  0.00114648,  0.00172243,  0.0011134 ,\n",
       "         0.00151253]))"
      ]
     },
     "execution_count": 17,
     "metadata": {},
     "output_type": "execute_result"
    }
   ],
   "source": [
    "# max_features调参\n",
    "param_search_using_oob(param_name='max_features', \n",
    "             n_estimators=50,\n",
    "             param_value_array=[x for x in range(3, 9)])"
   ]
  },
  {
   "cell_type": "code",
   "execution_count": 18,
   "metadata": {},
   "outputs": [
    {
     "data": {
      "image/png": "[encoded data removed]",
      "text/plain": [
       "<matplotlib.figure.Figure at 0xd126748>"
      ]
     },
     "metadata": {},
     "output_type": "display_data"
    },
    {
     "data": {
      "text/plain": [
       "(array([ 0.98030781,  0.97833465,  0.97959747,  0.97904499,  0.97868982,\n",
       "         0.97928177,  0.97868982]),\n",
       " array([ 0.00146014,  0.00064725,  0.00133302,  0.00092465,  0.00160786,\n",
       "         0.00059195,  0.00143377]))"
      ]
     },
     "execution_count": 18,
     "metadata": {},
     "output_type": "execute_result"
    }
   ],
   "source": [
    "# min_samples_split调参\n",
    "param_search_using_oob(param_name='min_samples_split', \n",
    "             n_estimators=50,\n",
    "             max_features=5,\n",
    "             param_value_array=[x for x in range(2, 9)])"
   ]
  },
  {
   "cell_type": "code",
   "execution_count": 19,
   "metadata": {},
   "outputs": [
    {
     "name": "stdout",
     "output_type": "stream",
     "text": [
      "Socre of test data: 0.97666\n"
     ]
    }
   ],
   "source": [
    "rf_oob_ft= RandomForestClassifier(oob_score=False, n_estimators=50,\n",
    "             max_features=5, min_samples_split=4, criterion='gini')\n",
    "print('Socre of test data: {:.5}'.format(accuracy_of_rf(rf_oob_ft, n=10)))"
   ]
  },
  {
   "cell_type": "code",
   "execution_count": 20,
   "metadata": {},
   "outputs": [
    {
     "name": "stdout",
     "output_type": "stream",
     "text": [
      "Socre of test data: 0.97618\n"
     ]
    }
   ],
   "source": [
    "rf_oob_ft= RandomForestClassifier(oob_score=False, n_estimators=50,\n",
    "             max_features=5, min_samples_split=4, criterion='entropy')\n",
    "print('Socre of test data: {:.5}'.format(accuracy_of_rf(rf_oob_ft, n=10)))"
   ]
  },
  {
   "cell_type": "markdown",
   "metadata": {},
   "source": [
    "### NB"
   ]
  },
  {
   "cell_type": "code",
   "execution_count": 21,
   "metadata": {},
   "outputs": [
    {
     "name": "stdout",
     "output_type": "stream",
     "text": [
      "0.905362776025\n"
     ]
    }
   ],
   "source": [
    "nb = GaussianNB()\n",
    "print(model_accuracy(nb))"
   ]
  },
  {
   "cell_type": "markdown",
   "metadata": {},
   "source": [
    "### SVM"
   ]
  },
  {
   "cell_type": "code",
   "execution_count": 22,
   "metadata": {},
   "outputs": [
    {
     "name": "stdout",
     "output_type": "stream",
     "text": [
      "0.970031545741\n"
     ]
    }
   ],
   "source": [
    "svm = SVC(kernel='rbf', probability=True, random_state=0)\n",
    "print(model_accuracy(svm))"
   ]
  },
  {
   "cell_type": "markdown",
   "metadata": {},
   "source": [
    "### SVM(调参)"
   ]
  },
  {
   "cell_type": "code",
   "execution_count": 23,
   "metadata": {},
   "outputs": [],
   "source": [
    "# svm_ft = SVC(kernel='rbf', probability=True, random_state=0)\n",
    "# params = {'C': [1.0, 1e2, 1e3, 5e3, 1e4, 5e4, 1e5],\n",
    "#               'gamma': [0.0001, 0.0005, 0.001, 0.005, 0.01, 0.1]}\n",
    "# print(model_accuracy(gs_best_estimator(svm_ft, params)))"
   ]
  },
  {
   "cell_type": "markdown",
   "metadata": {},
   "source": [
    "### GDBT"
   ]
  },
  {
   "cell_type": "code",
   "execution_count": 24,
   "metadata": {},
   "outputs": [
    {
     "name": "stdout",
     "output_type": "stream",
     "text": [
      "0.973186119874\n"
     ]
    }
   ],
   "source": [
    "gdbt = GradientBoostingClassifier(random_state=0)\n",
    "print(model_accuracy(gdbt))"
   ]
  },
  {
   "cell_type": "markdown",
   "metadata": {},
   "source": [
    "### GDBT(调参)"
   ]
  },
  {
   "cell_type": "code",
   "execution_count": 25,
   "metadata": {},
   "outputs": [],
   "source": [
    "# gdbt_ft = GradientBoostingClassifier(random_state=0)\n",
    "# params = {'n_estimators': [(100+x*50) for x in range(0,5)], 'max_features': [2, 3, 4, 5],\n",
    "#              'max_depth': [2, 3, 4]}\n",
    "# print(model_accuracy(gs_best_estimator(gdbt_ft, params)))"
   ]
  },
  {
   "cell_type": "markdown",
   "metadata": {},
   "source": [
    "### KNN"
   ]
  },
  {
   "cell_type": "code",
   "execution_count": 26,
   "metadata": {},
   "outputs": [
    {
     "name": "stdout",
     "output_type": "stream",
     "text": [
      "0.981072555205\n"
     ]
    }
   ],
   "source": [
    "knn = KNeighborsClassifier()\n",
    "print(model_accuracy(knn))"
   ]
  },
  {
   "cell_type": "markdown",
   "metadata": {},
   "source": [
    "### KNN(调参)"
   ]
  },
  {
   "cell_type": "code",
   "execution_count": 27,
   "metadata": {},
   "outputs": [],
   "source": [
    "# knn_ft = KNeighborsClassifier()\n",
    "# params = {'n_neighbors':[x for x in range(1,21)]}\n",
    "# print(model_accuracy(gs_best_estimator(knn_ft, params)))"
   ]
  },
  {
   "cell_type": "markdown",
   "metadata": {},
   "source": [
    "### DT"
   ]
  },
  {
   "cell_type": "code",
   "execution_count": 28,
   "metadata": {},
   "outputs": [],
   "source": [
    "# dt = DecisionTreeClassifier(random_state=0)\n",
    "# print(model_accuracy(dt))"
   ]
  },
  {
   "cell_type": "markdown",
   "metadata": {},
   "source": [
    "### DT(调参)"
   ]
  },
  {
   "cell_type": "code",
   "execution_count": 29,
   "metadata": {},
   "outputs": [],
   "source": [
    "# dt_ft = DecisionTreeClassifier(random_state=0)\n",
    "# params = {'min_samples_split':[2, 3, 4, 5], 'max_features':[x for x in range(5, 20)]}\n",
    "# print(model_accuracy(gs_best_estimator(dt_ft, params)))"
   ]
  },
  {
   "cell_type": "markdown",
   "metadata": {},
   "source": [
    "## Stacking"
   ]
  },
  {
   "cell_type": "code",
   "execution_count": 30,
   "metadata": {},
   "outputs": [],
   "source": [
    "from sklearn.model_selection import KFold\n",
    "\n",
    "def get_oof(clf, n_folds):\n",
    "    ntrain = X_train.shape[0]\n",
    "    ntest =  X_test.shape[0]\n",
    "    classnum = len(np.unique(y_train)) # 分类数B\n",
    "    kf = KFold(n_splits=n_folds, random_state=0)\n",
    "    oof_train = np.zeros((ntrain, classnum))\n",
    "    oof_test = np.zeros((ntest, classnum))\n",
    "\n",
    "\n",
    "    for i,(train_index, test_index) in enumerate(kf.split(X_train)):\n",
    "        kf_X_train = X_train.iloc[train_index] # 数据\n",
    "        kf_y_train = y_train.iloc[train_index] # 标签\n",
    "\n",
    "        kf_X_test = X_train.iloc[test_index]  # k-fold的验证集\n",
    "\n",
    "        clf.fit(kf_X_train, kf_y_train)\n",
    "        oof_train[test_index] = clf.predict_proba(kf_X_test)\n",
    "\n",
    "        oof_test += clf.predict_proba(X_test)\n",
    "    oof_test = oof_test/float(n_folds)\n",
    "    return oof_train, oof_test"
   ]
  },
  {
   "cell_type": "code",
   "execution_count": 31,
   "metadata": {},
   "outputs": [
    {
     "name": "stdout",
     "output_type": "stream",
     "text": [
      "0.981072555205\n"
     ]
    }
   ],
   "source": [
    "# clf\n",
    "lr = LogisticRegression()\n",
    "nb = GaussianNB()\n",
    "svm = SVC(kernel='rbf', probability=True, C=5000.0, gamma=0.005)\n",
    "gdbt = GradientBoostingClassifier(max_features=5, n_estimators=200, \n",
    "                                  max_depth=4, random_state=0)\n",
    "knn = KNeighborsClassifier(n_neighbors=6)\n",
    "dt = DecisionTreeClassifier(max_features=11, min_samples_split=4, random_state=0)\n",
    "\n",
    "# first layer\n",
    "modelist = [svm, gdbt, knn, dt]\n",
    "\n",
    "new_feature_list = []\n",
    "new_testdata_list = []\n",
    "for model in modelist:\n",
    "    clf_first = model\n",
    "    oof_train_ , oof_test_ = get_oof(clf=clf_first, n_folds=10)\n",
    "    new_feature_list.append(oof_train_)\n",
    "    new_testdata_list.append(oof_test_)\n",
    "\n",
    "# newfeature\n",
    "new_X_train = reduce(lambda x,y: np.concatenate((x, y), axis=1), new_feature_list)    \n",
    "new_X_test = reduce(lambda x,y: np.concatenate((x, y), axis=1), new_testdata_list)\n",
    "\n",
    "# second layer, using new features\n",
    "# clf_second = RandomForestClassifier()\n",
    "clf_second = lr\n",
    "clf_second.fit(new_X_train, y_train)\n",
    "print(clf_second.score(new_X_test, y_test))"
   ]
  }
 ],
 "metadata": {
  "kernelspec": {
   "display_name": "Python 2",
   "language": "python",
   "name": "python2"
  },
  "language_info": {
   "codemirror_mode": {
    "name": "ipython",
    "version": 2
   },
   "file_extension": ".py",
   "mimetype": "text/x-python",
   "name": "python",
   "nbconvert_exporter": "python",
   "pygments_lexer": "ipython2",
   "version": "2.7.13"
  }
 },
 "nbformat": 4,
 "nbformat_minor": 2
}
